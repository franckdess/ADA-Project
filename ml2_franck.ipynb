{
 "cells": [
  {
   "cell_type": "markdown",
   "metadata": {},
   "source": [
    "# Diving deep into the Panama Papers"
   ]
  },
  {
   "cell_type": "markdown",
   "metadata": {},
   "source": [
    "## ADA Milestone 2: Data collection and descriptive analysis"
   ]
  },
  {
   "cell_type": "code",
   "execution_count": 81,
   "metadata": {
    "collapsed": true
   },
   "outputs": [],
   "source": [
    "#Imports\n",
    "import numpy as np\n",
    "import pandas as pd\n",
    "import scipy.stats as st\n",
    "import matplotlib.pyplot as plt\n",
    "import warnings\n",
    "import networkx as nx\n",
    "import collections\n",
    "from operator import itemgetter\n",
    "from functools import reduce\n",
    "from IPython.display import Image\n",
    "\n",
    "warnings.simplefilter('ignore')\n",
    "PATH = './Data'"
   ]
  },
  {
   "cell_type": "markdown",
   "metadata": {},
   "source": [
    "# TODO: \n",
    "\n",
    "Specific country analysis:\n",
    "- Descriptive statistics\n",
    "- Compute centrality measures (degree, closeness, betweenness, pagerank)\n",
    "- Extract communities\n",
    "- Visualize in Gephi based on these metrics\n",
    "- Investigate and discuss results  \n",
    "  \n",
    "Correlates of Evasion  \n",
    "Fraudulent entities inference"
   ]
  },
  {
   "cell_type": "markdown",
   "metadata": {},
   "source": [
    "### Specific country analysis"
   ]
  },
  {
   "cell_type": "markdown",
   "metadata": {},
   "source": [
    "In this part we'll dig deeper in country analysis. Indeed, we chose 6 countries to deeper analyse. We chose these countries to be large enough to be interesting but small enough to be vizualisable in a graph and computable by our computers. \n",
    "\n",
    "So we selected\n",
    "- Argentina, \n",
    "- Canada, \n",
    "- Cyprus, \n",
    "- Liechtenstein,\n",
    "- Monaco, \n",
    "- Russia. \n",
    "\n",
    "For each of them we exported the ego graph as a .gexf file and created a Gephi graph. The metrics used to display the graphs are the betweenness centrality and the modularity. Indeed, in each graph the nodes' size depend on the betweenness centrality while the color depend on the modularity."
   ]
  },
  {
   "cell_type": "markdown",
   "metadata": {},
   "source": [
    "## Argentina"
   ]
  },
  {
   "cell_type": "markdown",
   "metadata": {},
   "source": [
    "<img src=\"graphs/Argentina_tr.png\" style=\"width:1000px\">\n",
    "\n",
    "Country : Argentina, Modularity : 0.982\n",
    "\n",
    "We begin with Argentina, in which we extracted 5 major entities.\n",
    "<figure style=\"float:right;margin-left:20px;\">\n",
    "    <img src=\"proofs/proof1.png\" style=\"width:400px\">\n",
    "    <figcaption>Figure 1.</figcaption>\n",
    "</figure>\n",
    "<div style=\"text-align: justify\">\n",
    "<blockquote>The first one, Riveiro y Asociados is the principal Intermediar of Argentina, which is linked to 49 other entities in British Virgin Island, Panama or Bahamas. Its status is still active according to the offshore leaks database</blockquote>\n",
    "\n",
    "<blockquote>Then we have Hatherley Limited, Jinhua Limited and Edgar Abdala. These three seem to be connected and after investigation we found out that indeed Edgar Abdala was the intermediary of Jinhua Limited, which was the shareholder of Hatherley Limited, even thought Hatherley Limited was not directly linked to Argentina but Seychelles. See Figure 1 for the complete connection of Hatherley Limited, Jinhua Limited and Edgar Abdala.</blockquote>\n",
    "\n",
    "<blockquote>Finally we have Marketsite S.A. which is the intermediary of 27 entities linked to Argentina.</blockquote>"
   ]
  },
  {
   "cell_type": "markdown",
   "metadata": {},
   "source": [
    "## Canada"
   ]
  },
  {
   "cell_type": "markdown",
   "metadata": {},
   "source": [
    "<img src=\"graphs/Canada_tr.png\" style=\"width:1000px\">\n",
    "Country : Canada, Modularity : 0.84\n",
    "\n",
    "From Canada, we extracted only 2 major entities.\n",
    "<div style=\"text-align: justify\">\n",
    "<blockquote>The first one is Bond & Company,  which is a intermediary company connected to 1166 entities.</blockquote>\n",
    "\n",
    "\n",
    "<blockquote>The second one is De Grandpré Chait and it is also a intermediary company connected to 82 entities with jurisdiction in British Virgin Islands.</blockquote>"
   ]
  },
  {
   "cell_type": "markdown",
   "metadata": {},
   "source": [
    "## Cyprus"
   ]
  },
  {
   "cell_type": "markdown",
   "metadata": {},
   "source": [
    "<img src=\"graphs/Cyprus_tr.png\" style=\"width:1000px\">\n",
    "Country : Cyprus, Modularity : 0.931\n",
    "\n",
    "We then look into Cyprus, for which we extracted 7 major entities.\n",
    "\n",
    "<figure style=\"float:right;margin-left:20px;\">\n",
    "    <img src=\"proofs/proof2.png\" style=\"width:500px\">\n",
    "    <figcaption>Figure 1.</figcaption>\n",
    "    <img src=\"proofs/proof3.png\" style=\"width:500px\">\n",
    "    <figcaption>Figure 2.</figcaption>\n",
    "</figure>\n",
    "<div style=\"text-align: justify\">\n",
    "<blockquote>First, we have *Dorchester International Inc* and *Chesterfield Group Limited* that seem to be connected to each other. Chesterfield Group Limited is an entity registered in the Bahamas and connected to 1 entity, 5 officers and 1 intermediary. No suprinsingly, one of these officer is Dorchester International Inc. After investigation, we found out that Dorchester International Inc is the shareholder of many entities that are the intermediary of Chesterfield Group Limited, as shown on the Figure 1 on the right. </blockquote>\n",
    "\n",
    "<blockquote>\n",
    "After that we have Alba Corporate Entreprises Limited and Tradelab Limited, which also seem to be connected. Alba Corporate Enterprises Limited is an intermediary company connected to 406 entities. Tradelab Limited is an entity registered in the Bahamas, connected to one other entity, 7 officers, and 1 intermediary, which is Alba Corporate Entreprises Limited. See Figure 2.</blockquote>\n",
    "\n",
    "<blockquote>\n",
    "Now we have Laveco LTD. Laveco LTD is actually not directly linked to Cyprus. But it is the intermediary company for 603 entities that are linked to Cyprus. This make sense since after visiting its website, we found out that Laveco LTD that offers legal solution for offshore company formation in Cyprus, Hong-Kong, Seychelles and so on.</blockquote>\n",
    "\n",
    "\n",
    "<blockquote>\n",
    "Finally come Omni Management Consultancy FZE and FIGED that does not have any direct connection with the other major entities. Omni Management Consultancy FZE is a intermediary company connected to 1315 entities while FIGED is also an intermediary company connected to 234 entities.</blockquote>\n",
    "\n",
    "</div>"
   ]
  },
  {
   "cell_type": "markdown",
   "metadata": {},
   "source": [
    "## Liechtenstein"
   ]
  },
  {
   "cell_type": "markdown",
   "metadata": {},
   "source": [
    "<img src=\"graphs/Liechtenstein_tr.png\" style=\"width:1000px\">\n",
    "Country : Liechtenstein, Modularity : 0.904\n",
    "\n",
    "For Liechtenstein we extracted 7 major entites.\n",
    "\n",
    "<figure style=\"float:right;margin-left:20px;\">\n",
    "    <img src=\"proofs/proof4.png\" style=\"width:500px\">\n",
    "    <figcaption>Figure 1.</figcaption>\n",
    "</figure>\n",
    "<div style=\"text-align: justify\">\n",
    "<blockquote> We can see that 6 among the 7 major entities are connected. They are Waves End Limited, EBENSTEIN INCORPORATED, Cornerways Limited, CLAWSON MANAGEMENT LTD, AUDINA TREUHAND AG AND SEQUOIA TREUHAND TRUST REG. We start by investigation on Waves End Limited, which is not linked to Liechtenstein. But it is an officer company connected to 3 entites and one officer. Two entities are EBENSTEIN INCORPORATED and CLAWSON MANAGEMENT LTD. EBENSTEIN INCORPORATED is the intermediary of SEQUOIA TREUHAND TRUST REG while CLAWSON MANAGEMENT LTD is the intermediary of AUDINA TREUHAND AG. Cornerways Limited is the shareholder of both entities EBENSTEIN INCORPORATED and CLAWSON MANAGEMENT LTD. See Figure 1 for the complete network.</blockquote>\n",
    "\n",
    "<blockquote>\n",
    "It remains LOPAG TRUST REG, does not seem to be connected to the other six entities. LOPAG TRUST REG is an intermediary company that that is connected to 165 entities.\n",
    "</blockquote>\n",
    "\n",
    "</div>"
   ]
  },
  {
   "cell_type": "markdown",
   "metadata": {},
   "source": [
    "## Monaco"
   ]
  },
  {
   "cell_type": "markdown",
   "metadata": {},
   "source": [
    "<img src=\"graphs/Monaco_tr.png\" style=\"width:1000px\">\n",
    "Country : Monaco, Modularity : 0.886\n",
    "\n",
    "From the graph of Monaco we extracted 12 entities.\n",
    "\n",
    "<figure style=\"float:right;margin-left:20px;\">\n",
    "    <img src=\"proofs/proof5.png\" style=\"width:500px\">\n",
    "    <figcaption>Figure 1.</figcaption>\n",
    "    <img src=\"proofs/proof6.png\" style=\"width:400px\">\n",
    "    <figcaption>Figure 2.</figcaption>\n",
    "</figure>\n",
    "<div style=\"text-align: justify\">\n",
    "<blockquote> While first looking at the graph we can see that there is connection between all of them but AZTEC HOLDINGS LIMITED. To start our investigation, we first looking for Mr. Giovanni Battista Bollorino. We found out that he was the shareholder of LOANODUE SA which was the intermediary of BSI INTERNATIONAL PRIVATE BANKING S.A.M. After that we saw that Franco Canzi was registered at the same address, 7 avenue Saint Romain, Monaco. Franco Canzi is actualy the beneficary and the shareholder of SPINDLER LTD, which itself was the intermediary of C.F.M. S.A.M.  Many of the shareholder of SPINDLER LTD were registered at the same address: 11 Boulevard Albert; 1er MC 98000; Monaco. See Figure 1 for a detailed network.</blockquote>\n",
    "\n",
    "<blockquote>\n",
    "After that we started from BLAINE GROUP SERVICES LIMITED. We figured out that HSBC PRIVATE BANK (MONACO) SA whas its intermediary and that BROTHERHOOD FOUNDATION was one of its shareholder. BROTHERHOOD FOUNDATION was also linked to 57 other entities, while HSBC PRIVATE BANK (MONACO) SA is an intermediary connected to 777 entities. See Figure 2.\n",
    "</blockquote>\n",
    "\n",
    "<blockquote>\n",
    "It remained us to investigate about AZTEC HOLDINGS LIMITED. It is an officer connected to 10 entities.\n",
    "</blockquote>\n",
    "\n",
    "</div>"
   ]
  },
  {
   "cell_type": "markdown",
   "metadata": {},
   "source": [
    "## Russia"
   ]
  },
  {
   "cell_type": "markdown",
   "metadata": {},
   "source": [
    "<img src=\"graphs/Russia_tr.png\" style=\"width:1000px\">\n",
    "Country : Russia, Modularity : 0.923\n",
    "\n",
    "For Russia we extracted 6 major entites.\n",
    "\n",
    "<figure style=\"float:right;margin-left:20px;\">\n",
    "    <img src=\"proofs/proof7.png\" style=\"width:500px\">\n",
    "    <figcaption>Figure 1.</figcaption>\n",
    "    <img src=\"proofs/proof8.png\" style=\"width:420px\">\n",
    "    <figcaption>Figure 2.</figcaption>\n",
    "</figure>\n",
    "<div style=\"text-align: justify\">\n",
    "<blockquote> \n",
    "LEONA GROUP LIMITED and FABIAN BONNELAME seem to be connected we started our investigation with FABIAN BONNELAME. As described in Figure 1, he is shareholder for MOWBRAY PACIFIC LIMITED, and that LEGAL CONSULTING SERVICES LIMITED its intermediary. We found out that FABIAN BONNELAME was registered at many addresses and on different names.\n",
    "</blockquote>\n",
    "\n",
    "<blockquote>\n",
    "After that we investigated on LEONA GROUP LIMITED which also seem to be connected to Fabian Bonnelame. We found out that indeed he was a shareholder of LEONA GROUP LIMITED. We also notices that UNITRUST CORPORATE SERVICE LTD. was the intermediary of LEONA GROUP LIMITED. See Figure 2.\n",
    "</blockquote>\n",
    "\n",
    "<blockquote>\n",
    "Finally, EUROGLEN S.A. and Global Wealth Management Center Limited have no direct connections with the other. EUROGLEN S.A. is an intermediary company connected to 211 entities, while Global Wealth Management Center Limited is also an intermediary company connected to 279 entities.\n",
    "</blockquote>\n",
    "\n",
    "</div>"
   ]
  }
 ],
 "metadata": {
  "kernelspec": {
   "display_name": "Python 3",
   "language": "python",
   "name": "python3"
  },
  "language_info": {
   "codemirror_mode": {
    "name": "ipython",
    "version": 3
   },
   "file_extension": ".py",
   "mimetype": "text/x-python",
   "name": "python",
   "nbconvert_exporter": "python",
   "pygments_lexer": "ipython3",
   "version": "3.6.1"
  }
 },
 "nbformat": 4,
 "nbformat_minor": 2
}
