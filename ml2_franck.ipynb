{
 "cells": [
  {
   "cell_type": "markdown",
   "metadata": {},
   "source": [
    "# Diving deep into the Panama Papers"
   ]
  },
  {
   "cell_type": "markdown",
   "metadata": {},
   "source": [
    "# TODO: \n",
    "\n",
    "Specific country analysis:\n",
    "- Descriptive statistics\n",
    "- Compute centrality measures (degree, closeness, betweenness, pagerank)\n",
    "- Extract communities\n",
    "- Visualize in Gephi based on these metrics\n",
    "- Investigate and discuss results  \n",
    "  \n",
    "Correlates of Evasion  \n",
    "Fraudulent entities inference"
   ]
  },
  {
   "cell_type": "markdown",
   "metadata": {},
   "source": [
    "### Specific country analysis"
   ]
  },
  {
   "cell_type": "markdown",
   "metadata": {},
   "source": [
    "In this part we'll dig deeper in specific country analysis. Therefore, we chose 6 countries to analyse. We chose these countries to be large enough to be interesting, but small enough to be vizualisable in a graph and computable by our computers. \n",
    "\n",
    "To verify our results and investigate on them, we draw on the offshore leaks database by The International Consortium of Investigative Journalists (ICIJ) https://offshoreleaks.icij.org.\n",
    "\n",
    "We selected the following 6 countries:\n",
    "- Argentina\n",
    "- Canada\n",
    "- Cyprus \n",
    "- Liechtenstein\n",
    "- Monaco\n",
    "- Russia\n",
    "\n",
    "For each of them we exported the ego graph as a .gexf file and created a Gephi graph. The metrics used to display the graphs are the betweenness centrality and the modularity. Indeed, in each graph the nodes' size depend on the betweenness centrality while the color depend on the modularity, i.e. the colors represent the communities."
   ]
  },
  {
   "cell_type": "markdown",
   "metadata": {},
   "source": [
    "## Argentina"
   ]
  },
  {
   "cell_type": "markdown",
   "metadata": {},
   "source": [
    "<img src=\"graphs/Argentina_tr.png\" style=\"width:1000px\">\n",
    "\n",
    "Country : Argentina, Graph's modularity : 0.982\n",
    "\n",
    "We begin with Argentina, from which we extracted 5 major entities.\n",
    "<figure style=\"float:right;margin-left:20px;\">\n",
    "    <img src=\"proofs/proof1.png\" style=\"width:400px\">\n",
    "    <figcaption> <font size = \"1\"> Figure 1. </font> </figcaption>\n",
    "</figure>\n",
    "<div style=\"text-align: justify\">\n",
    "<blockquote>The first one, <i>RIVEIRO Y ASOCIADOS</i> is the principal entity among those linked to Argentina. It is an intermediary company linked to 49 other entities that are under jursdiction of British Virgin Island, Panama or Bahamas. Its status is still active according to the offshore leaks database.</blockquote>\n",
    "\n",
    "<blockquote>Then we have <i>HATHERLEY LIMITED</i>, <i>Jinhua Limited</i> and <i>EDGAR ABDALA</i>. By looking at the graph, we can clearly see that these three entities seem to be connected. After investigation we found out that indeed <i>EDGAR ABDALA</i> was the intermediary of <i>Jinhua Limited</i>, which was the shareholder of <i>HATHERLEY LIMITED</i>. Hence, even thought <i>HATHERLEY LIMITED</i> is linked to Seychelles and therefore not directly to Argentina, it appears on the graph. See Figure 1 for the complete connection of <i>HATHERLEY LIMITED</i>, <i>Jinhua Limited</i> and <i>EDGAR ABDALA</i>.</blockquote>\n",
    "\n",
    "<blockquote>Finally we have <i>MARKETSITE S.A.</i> which is the intermediary of 27 entities linked to Argentina and which status is still active, according to the offshore leaks database.</blockquote>"
   ]
  },
  {
   "cell_type": "markdown",
   "metadata": {},
   "source": [
    "## Canada"
   ]
  },
  {
   "cell_type": "markdown",
   "metadata": {},
   "source": [
    "<img src=\"graphs/Canada_tr.png\" style=\"width:1000px\">\n",
    "Country : Canada, Graph's modularity : 0.84\n",
    "\n",
    "From Canada, we extracted only 2 major entities.\n",
    "<div style=\"text-align: justify\">\n",
    "<blockquote>The first one is <i>BOND & COMPANY</i>,  which is an intermediary company connected to 1166 entities. Its status is still active according to the offshore leaks database.</blockquote>\n",
    "\n",
    "\n",
    "<blockquote>The second one is <i>DE GRANPRÉ CHAIT</i> and it is also an intermediary company connected to 82 entities all under British Virgin Islands jurisdiction. Its status is also still active.</blockquote>"
   ]
  },
  {
   "cell_type": "markdown",
   "metadata": {},
   "source": [
    "## Cyprus"
   ]
  },
  {
   "cell_type": "markdown",
   "metadata": {},
   "source": [
    "<img src=\"graphs/Cyprus_tr.png\" style=\"width:1000px\">\n",
    "Country : Cyprus, Graph's modularity : 0.931\n",
    "\n",
    "We then investigated on Cyprus, from which we extracted 7 major entities.\n",
    "\n",
    "<figure style=\"float:right;margin-left:20px;\">\n",
    "    <img src=\"proofs/proof2.png\" style=\"width:500px\">\n",
    "    <figcaption><font size=\"1\">Figure 1.</font></figcaption>\n",
    "    <img src=\"proofs/proof3.png\" style=\"width:500px\">\n",
    "    <figcaption> <font size=\"1\">Figure 2.</font></figcaption>\n",
    "</figure>\n",
    "<div style=\"text-align: justify\">\n",
    "<blockquote>First, we have <i>Dorchester International Inc</i> and <i>CHESTERFIELD GROUP LIMITED</i> that seem to be connected to each other. <i>CHESTERFIELD GROUP LIMITED</i> is an entity registered in the Bahamas and connected to 1 entity, 5 officers and 1 intermediary. No suprinsingly, one of these officer is <i>Dorchester International Inc</i>. After investigation, we found out that <i>Dorchester International Inc</i> is the shareholder of many entities that are the intermediaries of <i>CHESTERFIELD GROUP LIMITED</i>, as shown on Figure 1. </blockquote>\n",
    "\n",
    "<blockquote>\n",
    "We then examined <i>ALBA CORPORATE ENTERPRISES LIMITED</i> and <i>TRADELAB LIMITED</i>, which also seem to be connected. <i>ALBA CORPORATE ENTERPRISES LIMITED</i> is an intermediary company connected to 406 entities. <i>TRADELAB LIMITED</i> is an entity registered in the Bahamas, connected to one entity, 7 officers, and 1 intermediary. Again to no one's surprise, the intermediary of <i>TRADELAB LIMITED</i> is <i>ALBA CORPORATE ENTERPRISES LIMITED</i>. See Figure 2.</blockquote>\n",
    "\n",
    "<blockquote>\n",
    "Lets look into <i>LAVECO LTD</i>. <i>LAVECO LTD</i> is actually not directly linked to Cyprus. But it is the intermediary company of 603 entities that are linked to Cyprus. This make sense since after visiting its website, we figured out that <i>LAVECO LTD.</i> offers legal solutions for offshore company formation in Cyprus, Hong-Kong, Seychelles and so on.</blockquote>\n",
    "\n",
    "<blockquote>\n",
    "Finally <i>OMNI MANAGEMENT CONSULTANCY FZE</i> and <i>FIGED</i> do not have any direct connection with the other major entities. <i>OMNI MANAGEMENT CONSULTANCY FZE</i> is an intermediary company connected to 1315 entities while <i>FIGED</i> is also an intermediary company connected to 234 entities and linked to Cyprus and Luxembourg. Both of them are still active according to the offshore leaks database.</blockquote>\n",
    "\n",
    "</div>"
   ]
  },
  {
   "cell_type": "markdown",
   "metadata": {},
   "source": [
    "## Liechtenstein"
   ]
  },
  {
   "cell_type": "markdown",
   "metadata": {},
   "source": [
    "<img src=\"graphs/Liechtenstein_tr.png\" style=\"width:1000px\">\n",
    "Country : Liechtenstein, Graph's modularity : 0.904\n",
    "\n",
    "From Liechtenstein we extracted 7 major entites.\n",
    "\n",
    "<figure style=\"float:right;margin-left:20px;\">\n",
    "    <img src=\"proofs/proof4.png\" style=\"width:500px\">\n",
    "    <figcaption> <font size=\"1\">Figure 1.</font></figcaption>\n",
    "</figure>\n",
    "<div style=\"text-align: justify\">\n",
    "<blockquote> By looking at the graphe, we can see that 6 entities among the 7 major ones are connected. They are <i>Waves End Limited</i>, <i>EBENSTEIN INCORPORATED</i>, <i>Cornerways Limited</i>, <i>CLAWSON MANAGEMENT LTD</i>, <i>AUDINA TREUHAND AG</i> and <i>SEQUOIA TREUHAND TRUST REG</i>. We start by investigating on <i>Waves End Limited</i> since it has only 2 links it will be easy to find connections.<i>Waves End Limited</i> is actually not linked to Liechtenstein. But it is an officer company connected to 3 entites and one officer. We found out that 2 entities among the 3 are <i>EBENSTEIN INCORPORATED</i> and <i>CLAWSON MANAGEMENT LTD</i>. <i>EBENSTEIN INCORPORATED</i> is the intermediary of <i>SEQUOIA TREUHAND TRUST REG</i> while <i>CLAWSON MANAGEMENT LTD</i> is the intermediary of <i>AUDINA TREUHAND AG</i>. <i>Cornerways Limited</i> is the shareholder of both entities <i>EBENSTEIN INCORPORATED</i> and <i>CLAWSON MANAGEMENT LTD</i>. With the help of the offshore leaks database, the connections between these 6 entities was not hard to discover. See Figure 1 for the complete network. With connections to 583 and 222 entites respectively, <i>AUDINA TREUHAND AG</i> and <i>SEQUOIA TREUHAND TRUST REG</i> are the two main entities of Liechtenstein. This outcome supports our results presented in the graph.</blockquote>\n",
    "\n",
    "<blockquote>\n",
    "It remains <i>LOPAG TRUST REG</i>, which does not seem to be directly connected to the other 6 entities. <i>LOPAG TRUST REG</i> is an intermediary company connected to 165 entities, that are for most of them under the British Virgin Islands jurisdiction. Again, according to the offshore leaks database, <i>LOPAG TRUST REG</i> is still active.\n",
    "</blockquote>\n",
    "\n",
    "</div>"
   ]
  },
  {
   "cell_type": "markdown",
   "metadata": {},
   "source": [
    "## Monaco"
   ]
  },
  {
   "cell_type": "markdown",
   "metadata": {},
   "source": [
    "<img src=\"graphs/Monaco_tr.png\" style=\"width:1000px\">\n",
    "Country : Monaco, Graph's modularity : 0.886\n",
    "\n",
    "From the graph of Monaco we extracted 12 entities.\n",
    "\n",
    "<figure style=\"float:right;margin-left:20px;\">\n",
    "    <img src=\"proofs/proof5.png\" style=\"width:500px\">\n",
    "    <figcaption> <font size=\"1\">Figure 1.</font> </figcaption>\n",
    "    <img src=\"proofs/proof6.png\" style=\"width:400px\">\n",
    "    <figcaption> <font size=\"1\">Figure 2.</font></figcaption>\n",
    "</figure>\n",
    "<div style=\"text-align: justify\">\n",
    "<blockquote> While first looking at the graph we can see that there is connection between all of the major entities but <i>AZTEC HOLDINGS LIMITED</i>. To start our investigation, we first looked for <i>Mr. Giovanni Battista BOLLORINO</i> since he has only 2 links, it will be easy to quickly find connections. We figured out that he was the shareholder of <i>LOANODUE SA</i> which was the intermediary of <i>BSI INTERNATIONAL PRIVATE BANKING S.A.M</i>. After that we saw that <i>Franco CANZI</i> was registered at the same address, <i>7 avenue Saint Roman, Monaco</i>. <i>Franco CANZI</i> is actualy the beneficary and the shareholder of <i>SPINDLER LTD</i>, which itself was the intermediary of <i>C.F.M. S.A.M</i>. Many of the shareholder of <i>SPINDLER LTD</i> were registered at the same address: <i>11 Boulevard Albert; 1er MC 98000; Monaco</i>. After few more researches on this address we found out that <i>11 Boulevard Albert; 1er MC 98000; Monaco</i> was the registration address of 495 officers. This justifies the apparition of this address in our graph. See Figure 1 for a detailed network.</blockquote>\n",
    "\n",
    "<blockquote>\n",
    "To avoid deeping too deep, we started back our researches from <i>BLAINE GROUP SERVICES LIMITED</i>. We figured out that <i>HSBC PRIVATE BANK (MONACO) SA</i> was its intermediary and <i>BROTHERHOOD FOUNDATION</i> one of its shareholder. See Figure 2. <i>BROTHERHOOD FOUNDATION</i> is also linked to 57 other entities and is not directly linked to Monaco but Panama, since this entity is under the Panama jurisdiction. <i>HSBC PRIVATE BANK (MONACO) SA</i> is an intermediary connected to 777 entities. Again we relied on the offshore leaks database to find out that both of them were still active.\n",
    "</blockquote>\n",
    "\n",
    "<blockquote>\n",
    "It remained us to investigate about <i>AZTEC HOLDINGS LIMITED</i>. We found out that it is an officer connected to 10 entities linked to Monaco . \n",
    "</blockquote>\n",
    "\n",
    "</div>"
   ]
  },
  {
   "cell_type": "markdown",
   "metadata": {},
   "source": [
    "## Russia"
   ]
  },
  {
   "cell_type": "markdown",
   "metadata": {},
   "source": [
    "<img src=\"graphs/Russia_tr.png\" style=\"width:1000px\">\n",
    "Country : Russia, Graph's modularity : 0.923\n",
    "\n",
    "From Russia's graph we extracted 6 major entites.\n",
    "\n",
    "<figure style=\"float:right;margin-left:20px;\">\n",
    "    <img src=\"proofs/proof7.png\" style=\"width:500px\">\n",
    "    <figcaption> <font size=\"1\">Figure 1.</font></figcaption>\n",
    "    <img src=\"proofs/proof8.png\" style=\"width:420px\">\n",
    "    <figcaption> <font size=\"1\">Figure 2.</font></figcaption>\n",
    "</figure>\n",
    "<div style=\"text-align: justify\">\n",
    "<blockquote> \n",
    "Since <i>LEONA GROUP LIMITED</i> and <i>FABIAN BONNELAME</i> seem to be connected we started our investigation with this latter. As shown in Figure 1, <i>FABIAN BONNELAME</i> is the shareholder and the beneficiary of <i>MOWBRAY PACIFIC LIMITED</i>, and <i>LEGAL CONSULTING SERVICES LIMITED</i> the intermediary of <i>MOWBRAY PACIFIC LIMITED</i>. We found out that <i>FABIAN BONNELAME</i> was registered at many addresses and on different names.\n",
    "</blockquote>\n",
    "\n",
    "<blockquote>\n",
    "Since we did not find a connection between <i>FABIAN BONNELAME</i> and <i>LEONA GROUP LIMITED</i> yet, we investigated on <i>LEONA GROUP LIMITED</i>. Not surprisingly, we found out that indeed <i>FABIAN BONNELAME</i> was a shareholder of <i>LEONA GROUP LIMITED</i>. We also noticed that <i>UNITRUST CORPORATE SERVICES LTD</i> was the intermediary of <i>LEONA GROUP LIMITED</i>. See Figure 2. <i>UNITRUST CORPORATE SERVICES LTD</i> is an intermediary company connected to 680 entities and linked to Russia and Canada.\n",
    "</blockquote>\n",
    "\n",
    "<blockquote>\n",
    "Finally, <i>EUROGLEN S.A.</i> and <i>GLOBAL WEALTH MANAGEMENT CENTER LIMITED</i> have no direct connections with the other. <i>EUROGLEN S.A.</i> is an intermediary company connected to 211 entities, while <i>GLOBAL WEALTH MANAGEMENT CENTER LIMITED</i> is also an intermediary company connected to 279 entities.\n",
    "</blockquote>\n",
    "\n",
    "</div>"
   ]
  }
 ],
 "metadata": {
  "kernelspec": {
   "display_name": "Python 3",
   "language": "python",
   "name": "python3"
  },
  "language_info": {
   "codemirror_mode": {
    "name": "ipython",
    "version": 3
   },
   "file_extension": ".py",
   "mimetype": "text/x-python",
   "name": "python",
   "nbconvert_exporter": "python",
   "pygments_lexer": "ipython3",
   "version": "3.6.1"
  }
 },
 "nbformat": 4,
 "nbformat_minor": 2
}
